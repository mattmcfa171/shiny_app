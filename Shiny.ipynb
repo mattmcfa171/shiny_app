{
 "cells": [
  {
   "cell_type": "code",
   "execution_count": 4,
   "id": "b7cbf0d3-1194-422b-a766-e137e5d75fcd",
   "metadata": {},
   "outputs": [],
   "source": [
    "library(shiny)"
   ]
  },
  {
   "cell_type": "code",
   "execution_count": 5,
   "id": "130d3d39-4043-4390-bedb-d478207cc479",
   "metadata": {},
   "outputs": [],
   "source": [
    "ui <- fluidPage(\n",
    "    titlePanel(\"Linear Modeling Data\"),\n",
    "    sidebarLayout(\n",
    "        sidebarPanel(\n",
    "           actionButton(\"button\", \"Create Scatter Plot\")\n",
    "            ),\n",
    "        mainPanel(\n",
    "            plotOutput(\"scatter\")\n",
    "            )\n",
    "        )\n",
    "    )"
   ]
  },
  {
   "cell_type": "code",
   "execution_count": null,
   "id": "0eb90468-dbd4-4e31-b186-2e40534c0670",
   "metadata": {},
   "outputs": [],
   "source": []
  }
 ],
 "metadata": {
  "kernelspec": {
   "display_name": "R",
   "language": "R",
   "name": "ir"
  },
  "language_info": {
   "codemirror_mode": "r",
   "file_extension": ".r",
   "mimetype": "text/x-r-source",
   "name": "R",
   "pygments_lexer": "r",
   "version": "4.1.2"
  }
 },
 "nbformat": 4,
 "nbformat_minor": 5
}
